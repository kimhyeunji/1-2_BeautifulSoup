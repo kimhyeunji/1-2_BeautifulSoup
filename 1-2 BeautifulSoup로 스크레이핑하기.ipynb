{
 "cells": [
  {
   "cell_type": "markdown",
   "id": "ac630787",
   "metadata": {},
   "source": [
    "# 1-2. BeautifulSoup로 스크레이핑 하기"
   ]
  },
  {
   "cell_type": "markdown",
   "id": "eb4aae21",
   "metadata": {},
   "source": [
    "* BeautifulSoup은 웹 페이지를 파싱하고 원하는 부분을 추출하는 데 사용됩니다"
   ]
  },
  {
   "cell_type": "code",
   "execution_count": 18,
   "id": "fd9c2d54",
   "metadata": {},
   "outputs": [
    {
     "name": "stdout",
     "output_type": "stream",
     "text": [
      "h1 = 스크레이핑이란?\n",
      "p1 = 웹 페이지를 분석하는 것\n",
      "p2 = 원하는 부분을 추출하는 것\n"
     ]
    }
   ],
   "source": [
    "# 라이브러리 읽어 들이기 --- (※1)  \n",
    "from bs4 import BeautifulSoup\n",
    "\n",
    "# 분석하고 싶은 HTML --- (※2)\n",
    "html = \"\"\"\n",
    "<html><body>\n",
    "<h1>스크레이핑이란?</h1>\n",
    "<p>웹 페이지를 분석하는 것</p>\n",
    "<p>원하는 부분을 추출하는 것</p>\n",
    "</body></html>\n",
    "\"\"\"\n",
    "\n",
    "# HTML 분석하기 --- (※3)\n",
    "soup = BeautifulSoup(html, 'html.parser')\n",
    "\n",
    "# 원하는 부분 추출하기 --- (※4)  \n",
    "h1 = soup.html.body.h1\n",
    "p1 = soup.html.body.p\n",
    "p2 = p1.next_sibling.next_sibling\n",
    "\n",
    "# 요소의 글자 출력하기 --- (※5) \n",
    "print(\"h1 = \" + h1.string)  \n",
    "print(\"p1 = \" + p1.string)  \n",
    "print(\"p2 = \" + p2.string)"
   ]
  },
  {
   "cell_type": "markdown",
   "id": "07048ac3",
   "metadata": {},
   "source": [
    "## id로 요소를 찾는 방법\n",
    "* id 속성을 지정해서 요소를 찾는 find() 메서드를 제공"
   ]
  },
  {
   "cell_type": "code",
   "execution_count": 22,
   "id": "6ae2d871",
   "metadata": {},
   "outputs": [
    {
     "name": "stdout",
     "output_type": "stream",
     "text": [
      "#title=스크레이핑이란?\n",
      "#body=웹 페이지를 분석하는 것\n"
     ]
    }
   ],
   "source": [
    "from bs4 import BeautifulSoup\n",
    "\n",
    "html = \"\"\"\n",
    "<html><body>\n",
    "<h1 id=\"title\">스크레이핑이란?</h1>\n",
    "<p id=\"body\">웹 페이지를 분석하는 것</p>\n",
    "<p>원하는 부분을 추출하는 것</p>\n",
    "</body></html>\n",
    "\"\"\"\n",
    "\n",
    "# HTML 분석하기 --- (※1)\n",
    "soup = BeautifulSoup(html, 'html.parser')\n",
    "\n",
    "# find() 메서드로 원하는 부분 추출하기 --- (※2)  \n",
    "title = soup.find(id=\"title\")\n",
    "body  = soup.find(id=\"body\")\n",
    "\n",
    "# 텍스트 부분 출력하기  \n",
    "print(\"#title=\" + title.string)  \n",
    "print(\"#body=\"  + body.string)\n"
   ]
  },
  {
   "attachments": {},
   "cell_type": "markdown",
   "id": "b17cadba",
   "metadata": {},
   "source": [
    "## 여러개의 요소 추출하기 - find all() 메서드\n",
    "* 여러  개의  태그를  한  번에  추출하고  싶을  때는  find_all() 메서드를  사용\n",
    "\n",
    "* HTML 내부에 있는 여러 개의 <a> 태그를 추출하는 프로그램\n",
    "* <a> 태그는 하이퍼링크  태그이므로, 링크 대상은 href 속성으로 지정하고 링크를 설명하는 텍스트는 태그 내부에  입력\n",
    "* 설명 글자와 링크 대상 URL을 추출하고 출력하는 예"
   ]
  },
  {
   "cell_type": "markdown",
   "id": "3a6e8b18",
   "metadata": {},
   "source": [
    "> attrs = attribute(속성)"
   ]
  },
  {
   "cell_type": "code",
   "execution_count": 31,
   "id": "944af5e1",
   "metadata": {},
   "outputs": [
    {
     "name": "stdout",
     "output_type": "stream",
     "text": [
      "naver > http://www.naver.com\n",
      "daum > http://www.daum.net\n"
     ]
    }
   ],
   "source": [
    "from bs4 import BeautifulSoup\n",
    "html = \"\"\"\n",
    "<html><body>\n",
    "<ul>\n",
    "<li><a href=\"http://www.naver.com\">naver</a></li>\n",
    "<li><a href=\"http://www.daum.net\">daum</a></li>\n",
    "</ul>\n",
    "</body></html>\n",
    "\"\"\"\n",
    "\n",
    "# HTML 분석하기 --- (※1)\n",
    "soup = BeautifulSoup(html, 'html.parser')\n",
    "\n",
    "# find_all() 메서드로 추출하기 --- (※2)  \n",
    "links = soup.find_all(\"a\")\n",
    "\n",
    "# 링크 목록 출력하기 --- (※3)  \n",
    "for a in links:\n",
    "    href = a.attrs['href']  \n",
    "    text = a.string  \n",
    "    print(text,\">\",href)\n"
   ]
  },
  {
   "attachments": {},
   "cell_type": "markdown",
   "id": "4a51a9b5",
   "metadata": {},
   "source": [
    "## DOM 요소의 속성에 대해 \n",
    "\n",
    "* DOM 요소의 속성을 추출하는 방법을 확인\n",
    "* 파이썬의 대화형 실행 환경인 REPL을 사용해 동작을 확인\n",
    "* REPL을 실행하려면 명령줄에 “python3”라고 입력\n",
    "\n",
    "* DOM(Document Object Model)이란 XML 또는 HTML의 요소에 접근하는 구조를 나타냄\n",
    "* DOM 요소의 속성이란 태그 이름 뒤에 있는 각 속성을 말함\n",
    "* 예를 들어, <a> 태그라면 href 등이 속성\n"
   ]
  },
  {
   "cell_type": "code",
   "execution_count": 36,
   "id": "5d542f10",
   "metadata": {},
   "outputs": [
    {
     "data": {
      "text/plain": [
       "'a.html'"
      ]
     },
     "execution_count": 36,
     "metadata": {},
     "output_type": "execute_result"
    }
   ],
   "source": [
    " # 코드를 쉽게 볼 수 있게 줄바꿈했습니다. 실제 REPL은 따로 줄바꿈되지 않습니다.\n",
    " from bs4 import BeautifulSoup\n",
    " soup = BeautifulSoup(\n",
    "\n",
    "\"<p><a href='a.html'>test</a></p>\",\n",
    "\"html.parser\")\n",
    "\n",
    " # 분석이 제대로 됐는지 확인하기 --- (※1)\n",
    " soup.prettify()\n",
    "'<p>\\n <a href=\"a.html\">\\n  test\\n </a>\\n</p>'\n",
    "\n",
    "\n",
    " # <a> 태그를 변수 a에 할당\n",
    " a = soup.p.a\n",
    "\n",
    "\n",
    " # attrs 속성의 자료형 확인 --- (※2)\n",
    " type(a.attrs)\n",
    "\n",
    "\n",
    " # href 속성이 있는지 확인\n",
    " 'href' in a.attrs\n",
    "True\n",
    "\n",
    " # href 속성값 확인\n",
    " a['href']\n",
    "'a.html'\n"
   ]
  },
  {
   "attachments": {},
   "cell_type": "markdown",
   "id": "2fa952d0",
   "metadata": {},
   "source": [
    "## urlopen() 과 BeautifulSoup 조합하기 \n",
    "\n",
    "* open() 함수 또는 urllib.request.urlopen() 함수의 리턴 값을 지정해도 됨\n",
    "* urlopen()을 사용해 “기상청 RSS”에서 특정 내용을 추출하기\n"
   ]
  },
  {
   "cell_type": "code",
   "execution_count": 40,
   "id": "1fbfcc7e",
   "metadata": {},
   "outputs": [
    {
     "name": "stdout",
     "output_type": "stream",
     "text": [
      "기상청 육상 중기예보\n",
      "○ (강수) 18일(목) 오후부터 19일(금) 오전 사이 제주도에 비가 오겠습니다.<br />○ (기온) 이번 예보기간 아침 기온은 12~19도, 낮 기온은 21~29도로 평년(최저기온 11~16도, 최고기온 22~27도)과 비슷하거나 조금 높겠습니다.<br />○ (주말전망) 20일(토) 오전은 전국이 대체로 맑겠으며, 오후는 가끔 구름많겠습니다. 21일(일)은 전국이 구름많겠습니다. 아침 기온은 13~18도, 낮 기온은 21~29도가 되겠습니다. <br /><br />* 18일(목)~19일(금)은 기압골의 발달 정도와 이동 속도에 따라 강수시점과 구역이 변경될 가능성이 있으니, 앞으로 발표되는 최신 예보를 참고하기 바랍니다.\n"
     ]
    }
   ],
   "source": [
    "from bs4 import BeautifulSoup\n",
    "import urllib.request as req\n",
    "\n",
    "url = \"http://www.kma.go.kr/weather/forecast/mid-term-rss3.jsp\"\n",
    "\n",
    "# urlopen()으로 데이터 가져오기 --- (※1)  \n",
    "res = req.urlopen(url)\n",
    "\n",
    "# BeautifulSoup으로 분석하기 --- (※2)  \n",
    "soup = BeautifulSoup(res, \"html.parser\")\n",
    "\n",
    "# 원하는 데이터 추출하기 --- (※3)  \n",
    "title = soup.find(\"title\").string  \n",
    "wf = soup.find(\"wf\").string \n",
    "print(title)\n",
    "print(wf)\n"
   ]
  },
  {
   "attachments": {},
   "cell_type": "markdown",
   "id": "6772934c",
   "metadata": {},
   "source": [
    "## CSS 선택자 사용하기\n",
    "\n",
    "* BeautifulSoup는 jQuery처럼 CSS 선택자를 지정해서 원하는 요소를 추출하는 기능도 제공\n",
    "\n",
    "> soup.select_one(<선택자>) CSS 선택자로 요소 하나를 추출합니다. = 리턴(값)  \n",
    "> soup.select(<선택자>) CSS 선택자로 요소 여러 개를 리스트로 추출합니다. = 리턴(배열)\n",
    "\n"
   ]
  },
  {
   "cell_type": "code",
   "execution_count": 48,
   "id": "e2957d62",
   "metadata": {},
   "outputs": [
    {
     "name": "stdout",
     "output_type": "stream",
     "text": [
      "h1 = 위키북스 도서\n",
      "li = 유니티 게임 이펙트 입문\n",
      "li = 스위프트로 시작하는 아이폰 앱 개발 교과서\n",
      "li = 모던 웹사이트 디자인의 정석\n"
     ]
    }
   ],
   "source": [
    "from bs4 import BeautifulSoup\n",
    "\n",
    "# 분석 대상 HTML --- (※1)\n",
    "html = \"\"\"\n",
    "<html><body>\n",
    "<div id=\"meigen\">\n",
    "<h1>위키북스 도서</h1>\n",
    "<ul class=\"items\">\n",
    "<li>유니티 게임 이펙트 입문</li>\n",
    "<li>스위프트로 시작하는 아이폰 앱 개발 교과서</li>\n",
    "<li>모던 웹사이트 디자인의 정석</li>\n",
    "</ul>\n",
    "</div>\n",
    "</body></html>\n",
    "\"\"\"\n",
    "\n",
    "# HTML 분석하기 --- (※2)\n",
    "soup = BeautifulSoup(html, 'html.parser')\n",
    "\n",
    "# 필요한 부분을 CSS 쿼리로 추출하기\n",
    "# 타이틀 부분 추출하기 --- (※3)\n",
    "h1 = soup.select_one(\"div#meigen > h1\").string  \n",
    "print(\"h1 =\", h1)\n",
    "# 목록 부분 추출하기 --- (※4)\n",
    "li_list = soup.select(\"div#meigen > ul.items > li\")  \n",
    "\n",
    "for li in li_list:\n",
    "    print(\"li =\", li.string)\n",
    "\n"
   ]
  },
  {
   "attachments": {},
   "cell_type": "markdown",
   "id": "3260a474",
   "metadata": {},
   "source": [
    "## 네이버 금융에서 환율 정보 추출하기 \n",
    "\n",
    "* 다양한 금융 정보가 공개돼 있는 “네이버 금융”에서 원/달러 환율 정보를 추출\n",
    "\n",
    "* 네이버 금융의 시장 지표 페이지 : http://finance.naver.com/marketindex/\n"
   ]
  },
  {
   "cell_type": "code",
   "execution_count": 49,
   "id": "12e60765",
   "metadata": {},
   "outputs": [
    {
     "name": "stdout",
     "output_type": "stream",
     "text": [
      "usd/krw = 1,339.60\n"
     ]
    }
   ],
   "source": [
    "from bs4 import BeautifulSoup\n",
    "import urllib.request as req\n",
    "\n",
    "# HTML 가져오기\n",
    "url = \"http://finance.naver.com/marketindex/\"  \n",
    "res = req.urlopen(url)\n",
    "\n",
    "# HTML 분석하기\n",
    "soup = BeautifulSoup(res, \"html.parser\")\n",
    "\n",
    "# 원하는 데이터 추출하기 --- (※1)\n",
    "price = soup.select_one(\"div.head_info > span.value\").string  \n",
    "print(\"usd/krw =\", price)\n"
   ]
  },
  {
   "cell_type": "markdown",
   "id": "f061d92f",
   "metadata": {},
   "source": [
    "## 유가, 금시세(휘발유 정보 )\n",
    "* f12 -> copy -> copyselector 사용\n",
    "* #oilGoldList > li:nth-child(2) > a.head.gasoline > div > span.value 변경"
   ]
  },
  {
   "cell_type": "code",
   "execution_count": 52,
   "id": "6489171f",
   "metadata": {
    "scrolled": true
   },
   "outputs": [
    {
     "name": "stdout",
     "output_type": "stream",
     "text": [
      "휘발유 = 1632.88 원\n"
     ]
    }
   ],
   "source": [
    "from bs4 import BeautifulSoup\n",
    "import urllib.request as req\n",
    "\n",
    "# HTML 가져오기\n",
    "url = \"http://finance.naver.com/marketindex/\" \n",
    "res = req.urlopen(url)\n",
    "\n",
    "# HTML 분석하기\n",
    "soup = BeautifulSoup(res, \"html.parser\")\n",
    "\n",
    "# 원하는 데이터 추출하기 --- (※1)\n",
    "price = soup.select_one(\"#oilGoldList > li:nth-child(2) > a.head.gasoline > div > span.value\").string  \n",
    "print(\"휘발유 =\", price,\"원\")\n"
   ]
  },
  {
   "cell_type": "markdown",
   "id": "7f87a6bd",
   "metadata": {},
   "source": [
    "# 1-3 CSS 선택자 (위키 문헌 - 윤동주)\n",
    "\n",
    "> HTML의 구조를 확인하는 방법  \n",
    "> CSS 선택자  \n",
    "> 웹브라우저(구글크롬)"
   ]
  },
  {
   "attachments": {},
   "cell_type": "markdown",
   "id": "68d3878a",
   "metadata": {},
   "source": [
    "mw-content-text > ul:nth-child(7) > li > b > a\n",
    "\n",
    "* nth-child(n)은 n번째에 있는 요소를 의미\n",
    "* nth-child(7)은 7번째에 있는 태그라는 의미"
   ]
  },
  {
   "cell_type": "code",
   "execution_count": 68,
   "id": "996623c4",
   "metadata": {},
   "outputs": [
    {
     "name": "stdout",
     "output_type": "stream",
     "text": [
      "- 하늘과 바람과 별과 시\n"
     ]
    }
   ],
   "source": [
    "from bs4 import BeautifulSoup\n",
    "import urllib.request as req\n",
    "\n",
    "\n",
    "# 뒤의 인코딩 부분은 \"저자:윤동주\"라는 의미입니다.\n",
    "# 따로 입력하지 말고 위키 문헌 홈페이지에 들어간 뒤에 주소를 복사해서 사용하세요.\n",
    "url =\"https://ko.wikisource.org/wiki/%EC%A0%80%EC%9E%90:%EC%9C%A4%EB%8F%99%EC%A3%BC\" \n",
    "res = req.urlopen(url)\n",
    "soup = BeautifulSoup(res, \"html.parser\")\n",
    "\n",
    "# #mw-content-text 바로 아래에 있는\n",
    "# ul 태그 바로 아래에 있는\n",
    "# li 태그 아래에 있는\n",
    "# a 태그를 모두 선택합니다.\n",
    "a_list = soup.select(\"#mw-content-text > div.mw-parser-output > ul:nth-child(6) > li > b > a\")\n",
    "\n",
    "for a in a_list:  \n",
    "    name = a.string  \n",
    "    print(\"-\", name)\n",
    "    "
   ]
  },
  {
   "cell_type": "code",
   "execution_count": 67,
   "id": "12b375a3",
   "metadata": {},
   "outputs": [
    {
     "name": "stdout",
     "output_type": "stream",
     "text": [
      "- 증보판\n",
      "- 흰 그림자\n",
      "- 사랑스런 추억\n",
      "- 흐르는 거리\n",
      "- 봄\n",
      "- 참회록\n",
      "- 간(肝)\n",
      "- 위로\n",
      "- 팔복\n",
      "- 못자는밤\n",
      "- 달같이\n",
      "- 고추밭\n",
      "- 아우의 인상화\n",
      "- 사랑의 전당\n",
      "- 이적\n",
      "- 비오는 밤\n",
      "- 산골물\n",
      "- 유언\n",
      "- 창\n",
      "- 바다\n",
      "- 비로봉\n",
      "- 산협의 오후\n",
      "- 명상\n",
      "- 소낙비\n",
      "- 한난계\n",
      "- 풍경\n",
      "- 달밤\n",
      "- 장\n",
      "- 밤\n",
      "- 황혼이 바다가 되어\n",
      "- 아침\n",
      "- 빨래\n",
      "- 꿈은 깨어지고\n",
      "- 산림\n",
      "- 이런날\n",
      "- 산상\n",
      "- 양지쪽\n",
      "- 닭\n",
      "- 가슴 1\n",
      "- 가슴 2\n",
      "- 비둘기\n",
      "- 황혼\n",
      "- 남쪽 하늘\n",
      "- 창공\n",
      "- 거리에서\n",
      "- 삶과 죽음\n",
      "- 초한대\n",
      "- 산울림\n",
      "- 해바라기 얼굴\n",
      "- 귀뚜라미와 나와\n",
      "- 애기의 새벽\n",
      "- 햇빛·바람\n",
      "- 반디불\n",
      "- 둘 다\n",
      "- 거짓부리\n",
      "- 눈\n",
      "- 참새\n",
      "- 버선본\n",
      "- 편지\n",
      "- 봄\n",
      "- 무얼 먹구 사나\n",
      "- 굴뚝\n",
      "- 햇비\n",
      "- 빗자루\n",
      "- 기왓장 내외\n",
      "- 오줌싸개 지도\n",
      "- 병아리\n",
      "- 조개껍질\n",
      "- 겨울\n",
      "- 트루게네프의 언덕\n",
      "- 달을 쏘다\n",
      "- 별똥 떨어진 데\n",
      "- 화원에 꽃이 핀다\n",
      "- 종시\n"
     ]
    }
   ],
   "source": [
    "from bs4 import BeautifulSoup\n",
    "import urllib.request as req\n",
    "\n",
    "\n",
    "# 뒤의 인코딩 부분은 \"저자:윤동주\"라는 의미입니다.\n",
    "# 따로 입력하지 말고 위키 문헌 홈페이지에 들어간 뒤에 주소를 복사해서 사용하세요.\n",
    "url =\"https://ko.wikisource.org/wiki/%EC%A0%80%EC%9E%90:%EC%9C%A4%EB%8F%99%EC%A3%BC\" \n",
    "res = req.urlopen(url)\n",
    "soup = BeautifulSoup(res, \"html.parser\")\n",
    "\n",
    "# #mw-content-text 바로 아래에 있는\n",
    "# ul 태그 바로 아래에 있는\n",
    "# li 태그 아래에 있는\n",
    "# a 태그를 모두 선택합니다.\n",
    "\n",
    "b_list = soup.select(\"#mw-content-text > div > ul > li > a\")\n",
    "\n",
    "\n",
    "    \n",
    "for b in b_list:  \n",
    "    name2 = b.string  \n",
    "    print(\"-\", name2)"
   ]
  },
  {
   "cell_type": "markdown",
   "id": "4cd9eb09",
   "metadata": {},
   "source": [
    "## CSS 선택자로 과일과 야채 선택해보기 "
   ]
  },
  {
   "cell_type": "code",
   "execution_count": 104,
   "id": "968dac93",
   "metadata": {},
   "outputs": [
    {
     "name": "stdout",
     "output_type": "stream",
     "text": [
      "오렌지\n",
      "아보카도\n",
      "아보카도\n",
      "아보카도\n",
      "아보카도\n",
      "아보카도\n",
      "아보카도\n"
     ]
    }
   ],
   "source": [
    "html = \"\"\"\n",
    "<html>\n",
    "<body>\n",
    "<div id=\"main-goods\" role=\"page\">\n",
    "<h1>과일과 야채</h1>\n",
    "<ul id=\"fr-list\">\n",
    "<li class=\"red green\" data-lo=\"ko\">사과</li>\n",
    "<li class=\"purple\" data-lo=\"us\">포도</li>\n",
    "<li class=\"yellow\" data-lo=\"us\">레몬</li>\n",
    "<li class=\"yellow\" data-lo=\"ko\">오렌지</li>\n",
    "</ul>\n",
    "<ul id=\"ve-list\">\n",
    "<li class=\"white green\" data-lo=\"ko\">무</li>\n",
    "<li class=\"red green\" data-lo=\"us\">파프리카</li>\n",
    "<li class=\"black\" data-lo=\"ko\">가지</li>\n",
    "<li class=\"black\" data-lo=\"us\">아보카도</li>\n",
    "<li class=\"white\" data-lo=\"cn\">연근</li>\n",
    "</ul>\n",
    "</div>\n",
    "</body>\n",
    "</html>\n",
    "\"\"\"\n",
    "\n",
    "from bs4 import BeautifulSoup\n",
    "soup = BeautifulSoup(html,\"html.parser\")\n",
    "\n",
    "\n",
    "\n",
    "# CSS 선택자로 추출하기\n",
    "print(soup.select(\"li:nth-of-type(4)\")[0].string) \t\t\t#(※1) 오렌지추출\n",
    "print(soup.select(\"li:nth-of-type(4)\")[1].string) \t\t\t#(※1) \n",
    "print(soup.select_one(\"#ve-list > li:nth-of-type(4)\").string)  \t\t#(※2)\n",
    "print(soup.select(\"#ve-list > li[data-lo='us']\")[1].string)\t\t\t#(※3)\n",
    "print(soup.select(\"#ve-list > li.black\")[1].string)\t\t\t\t#(※4)\n",
    "\n",
    "# find 메서드로 추출하기 ---- (※5)\n",
    "cond = {\"data-lo\":\"us\", \"class\":\"black\"}  \n",
    "print(soup.find(\"li\", cond).string)\n",
    "\n",
    "# find 메서드를 연속적으로 사용하기 --- (※6)  \n",
    "print(soup.find(id=\"ve-list\")\n",
    "    .find(\"li\", cond).string)\n",
    "\n"
   ]
  },
  {
   "cell_type": "markdown",
   "id": "72289445",
   "metadata": {},
   "source": [
    "## 정규 표현식과 함께 조합하기 \n",
    "> r\"^https:// (https://로 시작하는 데이터 추출)"
   ]
  },
  {
   "cell_type": "code",
   "execution_count": 107,
   "id": "69ff1d0a",
   "metadata": {},
   "outputs": [
    {
     "name": "stdout",
     "output_type": "stream",
     "text": [
      "https://example.com/fuga\n",
      "https://example.com/foo\n",
      "https://today1700.com/aaa\n"
     ]
    }
   ],
   "source": [
    "from bs4 import BeautifulSoup\n",
    "import re # 정규 표현식을 사용할 때 --- (※1)\n",
    "\n",
    "html = \"\"\"\n",
    "<ul>\n",
    "<li><a href=\"hoge.html\">hoge</li>\n",
    "<li><a href=\"https://example.com/fuga\">fuga*</li>\n",
    "<li><a href=\"https://example.com/foo\">foo*</li>\n",
    "<li><a href=\"http://example.com/aaa\">aaa</li>\n",
    "<li><a href=\"https://today1700.com/aaa\">aaa</li>\n",
    "</ul>\n",
    "\"\"\"\n",
    "soup = BeautifulSoup(html, \"html.parser\")\n",
    "# 정규 표현식으로 href에서 https인 것 추출하기 --- (※2)  \n",
    "li = soup.find_all(href=re.compile(r\"^https://\"))\n",
    "for e in li: print(e.attrs['href'])\n"
   ]
  },
  {
   "cell_type": "markdown",
   "id": "fabac934",
   "metadata": {},
   "source": [
    "# 1-4 링크에 있는 것을 한꺼번에 내려받기\n",
    "\n",
    "* 상대경로를 절대 경로로 변경하는 방법\n",
    "* 링크에 있는 것을 추출하기 위한 재귀처리"
   ]
  },
  {
   "attachments": {},
   "cell_type": "markdown",
   "id": "3c6d6b33",
   "metadata": {},
   "source": [
    "## 한꺼번에 다운받는 데 필요한 처리 내용\n",
    "\n",
    "* <a> 태그의 링크 대상이 상대 경로일 수 있음\n",
    "* 링크 대상이 HTML일 경우, HTML의 내용에 추가적인 처리가 필요\n",
    "* 링크를 재귀적으로 다운받아야 함\n",
    "\n",
    "## 상대  경로를  전개하는 방법\n",
    "* 상대 경로를 전개할 때는 urllib.parse.urljoin()을 사용\n",
    "    "
   ]
  },
  {
   "cell_type": "code",
   "execution_count": 108,
   "id": "9dbe053f",
   "metadata": {},
   "outputs": [
    {
     "name": "stdout",
     "output_type": "stream",
     "text": [
      "http://example.com/html/b.html\n",
      "http://example.com/html/sub/c.html\n",
      "http://example.com/index.html\n",
      "http://example.com/img/hoge.png\n",
      "http://example.com/css/hoge.css\n"
     ]
    }
   ],
   "source": [
    "from urllib.parse import urljoin\n",
    "\n",
    "base = \"http://example.com/html/a.html\"\n",
    "\n",
    "print( urljoin(base, \"b.html\") )  \n",
    "print( urljoin(base, \"sub/c.html\") )  \n",
    "print( urljoin(base, \"../index.html\") )\n",
    "print( urljoin(base, \"../img/hoge.png\") )  \n",
    "print( urljoin(base, \"../css/hoge.css\") )\n"
   ]
  },
  {
   "cell_type": "code",
   "execution_count": 109,
   "id": "068d4b19",
   "metadata": {},
   "outputs": [
    {
     "name": "stdout",
     "output_type": "stream",
     "text": [
      "http://example.com/hoge.html\n",
      "http://otherExample.com/wiki\n",
      "http://anotherExample.org/test\n"
     ]
    }
   ],
   "source": [
    "from urllib.parse import urljoin\n",
    "\n",
    "base = \"http://example.com/html/a.html\"\n",
    "\n",
    "print( urljoin(base, \"/hoge.html\") )\n",
    "print( urljoin(base, \"http://otherExample.com/wiki\") )  \n",
    "print( urljoin(base, \"//anotherExample.org/test\") )\n"
   ]
  },
  {
   "attachments": {
    "image-2.png": {
     "image/png": "[encoded data removed]"
    }
   },
   "cell_type": "markdown",
   "id": "3c968fb9",
   "metadata": {},
   "source": [
    "## 재귀적으로 HTML 페이지를 처리하는 방법\n",
    "* “a.html”에서 “b.html”로 링크 이동하고, “b.html”에서 “c.html”로 링크 이동하는 경우\n",
    "* “a.html”에서 링크를 통해 이동하는 페이지를 모두 다운로드하고, “c.html”을  다운받지 않으면 중간에 링크가 잘리는 문제가 발생\n",
    "* “a.html”을 분석하면 “b.html”도 함께 분석. 또한 “c.html”에서 “d.html”로 링크를 통해 이동하는 경우가 있다면  “c.html”도 분석해야 함\n",
    "* HTML을 다운로드하고 싶다면 재귀적으로 HTML을 분석해야 함\n",
    "\n",
    "![image-2.png](attachment:image-2.png)"
   ]
  },
  {
   "cell_type": "code",
   "execution_count": null,
   "id": "c3269135",
   "metadata": {},
   "outputs": [],
   "source": []
  },
  {
   "cell_type": "code",
   "execution_count": null,
   "id": "29c087ee",
   "metadata": {},
   "outputs": [],
   "source": []
  },
  {
   "cell_type": "code",
   "execution_count": null,
   "id": "4bce113c",
   "metadata": {},
   "outputs": [],
   "source": []
  },
  {
   "cell_type": "code",
   "execution_count": null,
   "id": "04b98e38",
   "metadata": {},
   "outputs": [],
   "source": []
  },
  {
   "cell_type": "code",
   "execution_count": null,
   "id": "3ff59ca0",
   "metadata": {},
   "outputs": [],
   "source": []
  },
  {
   "cell_type": "code",
   "execution_count": null,
   "id": "fc2e41fa",
   "metadata": {},
   "outputs": [],
   "source": []
  },
  {
   "cell_type": "code",
   "execution_count": null,
   "id": "83c09fde",
   "metadata": {},
   "outputs": [],
   "source": []
  },
  {
   "cell_type": "code",
   "execution_count": null,
   "id": "c47f8bf3",
   "metadata": {},
   "outputs": [],
   "source": []
  },
  {
   "cell_type": "code",
   "execution_count": null,
   "id": "9db52509",
   "metadata": {},
   "outputs": [],
   "source": []
  },
  {
   "cell_type": "code",
   "execution_count": null,
   "id": "3f939b5f",
   "metadata": {},
   "outputs": [],
   "source": []
  },
  {
   "cell_type": "code",
   "execution_count": null,
   "id": "e67dd81b",
   "metadata": {},
   "outputs": [],
   "source": []
  },
  {
   "cell_type": "code",
   "execution_count": null,
   "id": "bb2d0316",
   "metadata": {},
   "outputs": [],
   "source": []
  }
 ],
 "metadata": {
  "kernelspec": {
   "display_name": "Python 3 (ipykernel)",
   "language": "python",
   "name": "python3"
  },
  "language_info": {
   "codemirror_mode": {
    "name": "ipython",
    "version": 3
   },
   "file_extension": ".py",
   "mimetype": "text/x-python",
   "name": "python",
   "nbconvert_exporter": "python",
   "pygments_lexer": "ipython3",
   "version": "3.9.13"
  }
 },
 "nbformat": 4,
 "nbformat_minor": 5
}
